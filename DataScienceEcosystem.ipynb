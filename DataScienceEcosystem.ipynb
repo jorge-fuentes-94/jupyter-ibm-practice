{
 "cells": [
  {
   "cell_type": "markdown",
   "id": "700b39ff-d761-431f-9f76-a4e3c1fdc517",
   "metadata": {},
   "source": [
    "# Data Science Tools and Ecosystem"
   ]
  },
  {
   "cell_type": "markdown",
   "id": "ba0ec85f-727b-4f62-939e-2a12eccd2e7a",
   "metadata": {
    "tags": []
   },
   "source": [
    "## Author: \n",
    "Jorge Fuentes Jiménez"
   ]
  },
  {
   "cell_type": "markdown",
   "id": "08bbb7d6-6b86-4b92-9dc2-ab73895dce57",
   "metadata": {
    "tags": []
   },
   "source": [
    "In this notebook, Data Science Tools and Ecosystem are summarized."
   ]
  },
  {
   "cell_type": "markdown",
   "id": "09f9b4ae-e701-48a8-84ae-c41fdc8a1a22",
   "metadata": {},
   "source": [
    "**Objectives:**\n",
    "\n",
    "- List popular languages for Data Science\n",
    "- List popular frameworks for Data Science\n",
    "- List data science libraries"
   ]
  },
  {
   "cell_type": "markdown",
   "id": "a2236dae-6589-442f-a569-61df0b8eb33b",
   "metadata": {},
   "source": [
    "Some of the popular languages that Data Scientists use are:\n",
    "\n",
    "1. Python\n",
    "2. R\n",
    "3. Julia"
   ]
  },
  {
   "cell_type": "markdown",
   "id": "ad57a11c-bbfd-4dbf-b525-be0d69581d23",
   "metadata": {},
   "source": [
    "Some of the commonly used libraries used by Data Scientists include:\n",
    "\n",
    "1. Pandas\n",
    "2. Numpy\n",
    "3. Tensorflow"
   ]
  },
  {
   "cell_type": "markdown",
   "id": "d98c3bd7-d498-4bd3-b7fc-a932254bb7bc",
   "metadata": {},
   "source": [
    "| Data Science Tools |\n",
    "|--------------------|\n",
    "| Hadoop             |\n",
    "| Spark              |\n",
    "| NEO4J              |"
   ]
  },
  {
   "cell_type": "markdown",
   "id": "9ea0a425-be45-476e-9dcf-685ab5533be1",
   "metadata": {},
   "source": [
    "### Below are a few examples of evaluating arithmetic expressions in Python"
   ]
  },
  {
   "cell_type": "code",
   "execution_count": 2,
   "id": "ecdd4bd7-d368-4738-b591-8fc684de5bbd",
   "metadata": {
    "tags": []
   },
   "outputs": [
    {
     "data": {
      "text/plain": [
       "17"
      ]
     },
     "execution_count": 2,
     "metadata": {},
     "output_type": "execute_result"
    }
   ],
   "source": [
    "#This a simple arithmetic expression to mutiply then add integers\n",
    "\n",
    "(3*4)+5"
   ]
  },
  {
   "cell_type": "code",
   "execution_count": 5,
   "id": "d8699246-2aa1-4411-90c3-fb78ea352257",
   "metadata": {
    "tags": []
   },
   "outputs": [
    {
     "name": "stdout",
     "output_type": "stream",
     "text": [
      "3.3333333333333335\n",
      "hours\n"
     ]
    }
   ],
   "source": [
    "# This will convert 200 minutes to hours by diving by 60\n",
    "\n",
    "minutes = 200\n",
    "hours = minutes/60\n",
    "\n",
    "print(hours)\n",
    "print (\"hours\")"
   ]
  },
  {
   "cell_type": "code",
   "execution_count": null,
   "id": "36035723-4399-4e04-a813-09bd6721b29e",
   "metadata": {},
   "outputs": [],
   "source": []
  }
 ],
 "metadata": {
  "kernelspec": {
   "display_name": "Python",
   "language": "python",
   "name": "conda-env-python-py"
  },
  "language_info": {
   "codemirror_mode": {
    "name": "ipython",
    "version": 3
   },
   "file_extension": ".py",
   "mimetype": "text/x-python",
   "name": "python",
   "nbconvert_exporter": "python",
   "pygments_lexer": "ipython3",
   "version": "3.7.12"
  }
 },
 "nbformat": 4,
 "nbformat_minor": 5
}
